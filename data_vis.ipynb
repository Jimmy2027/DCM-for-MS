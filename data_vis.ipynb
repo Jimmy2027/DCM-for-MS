{
 "cells": [
  {
   "cell_type": "code",
   "execution_count": null,
   "metadata": {
    "collapsed": true
   },
   "outputs": [],
   "source": [
    "from scipy.io import loadmat\n",
    "from matplotlib import pyplot as plt\n",
    "import pandas as pd\n",
    "import os\n",
    "import numpy as np\n",
    "import pandas_profiling\n",
    "import seaborn as sns\n",
    "\n",
    "data_file = loadmat('Daten/HC/ROI_Subject001_Session001.mat')\n",
    "data_example = data_file['data']\n",
    "names = [n.tolist()[0] for n in data_file['names'][0]]\n",
    "names.append('Subject')\n",
    "df_HC = df_MS = pd.DataFrame(columns = names)\n",
    "dir = 'Daten/HC'\n",
    "\n",
    "for file in os.listdir(dir):\n",
    "    data_file = loadmat(os.path.join(dir, file))\n",
    "    data = [n[0] for n in data_file['data'][0]]\n",
    "    subject = file.split('_')[1]\n",
    "    names = [n.tolist()[0] for n in data_file['names'][0]]\n",
    "    struct = {}\n",
    "    for key, value in zip(names, data):\n",
    "        if len(value) > 1:\n",
    "            value = np.mean(value)\n",
    "        struct[key] = value\n",
    "    struct['Subject'] = subject\n",
    "    df_ = pd.DataFrame(struct)\n",
    "    df_HC = df_HC.append(df_)\n",
    "\n",
    "dir = 'Daten/MS'\n",
    "for file in os.listdir(dir):\n",
    "    data_file = loadmat(os.path.join(dir, file))\n",
    "    data = [n[0] for n in data_file['data'][0]]\n",
    "    subject = file.split('_')[1]\n",
    "    names = [n.tolist()[0] for n in data_file['names'][0]]\n",
    "    struct = {}\n",
    "    for key, value in zip(names, data):\n",
    "        if len(value) > 1:\n",
    "            value = np.mean(value)\n",
    "        struct[key] = value\n",
    "    struct['Subject'] = subject\n",
    "    df_ = pd.DataFrame(struct)\n",
    "    df_MS = df_MS.append(df_)"
   ]
  },
  {
   "cell_type": "code",
   "execution_count": null,
   "outputs": [],
   "source": [
    "profile = pandas_profiling.ProfileReport(df_HC,minimal = True, title='Pandas Profiling Report', html={'style':{'full_width':True}})\n",
    "profile.to_widgets()"
   ],
   "metadata": {
    "collapsed": false,
    "pycharm": {
     "name": "#%%\n"
    }
   }
  },
  {
   "cell_type": "code",
   "execution_count": null,
   "outputs": [],
   "source": [
    "profile = pandas_profiling.ProfileReport(df_MS,minimal = True, title='Pandas Profiling Report', html={'style':{'full_width':True}})\n",
    "profile.to_widgets()"
   ],
   "metadata": {
    "collapsed": false,
    "pycharm": {
     "name": "#%%\n"
    }
   }
  },
  {
   "cell_type": "code",
   "execution_count": null,
   "outputs": [],
   "source": [
    "colormap = plt.cm.RdBu\n",
    "plt.figure(figsize=(32,32))\n",
    "plt.title('Pearson Correlation of HC', y=1.05, size=15)\n",
    "sns.heatmap(df_HC.corr(),linewidths=0.1,vmax=1.0, square=True, cmap=colormap, linecolor='white', annot=True)"
   ],
   "metadata": {
    "collapsed": false,
    "pycharm": {
     "name": "#%%\n"
    }
   }
  },
  {
   "cell_type": "code",
   "execution_count": null,
   "outputs": [],
   "source": [
    "colormap = plt.cm.RdBu\n",
    "plt.figure(figsize=(32,32))\n",
    "plt.title('Pearson Correlation of MS', y=1.05, size=15)\n",
    "sns.heatmap(df_MS.corr(),linewidths=0.1,vmax=1.0, square=True, cmap=colormap, linecolor='white', annot=True)"
   ],
   "metadata": {
    "collapsed": false,
    "pycharm": {
     "name": "#%%\n"
    }
   }
  }
 ],
 "metadata": {
  "kernelspec": {
   "display_name": "Python 3",
   "language": "python",
   "name": "python3"
  },
  "language_info": {
   "codemirror_mode": {
    "name": "ipython",
    "version": 2
   },
   "file_extension": ".py",
   "mimetype": "text/x-python",
   "name": "python",
   "nbconvert_exporter": "python",
   "pygments_lexer": "ipython2",
   "version": "2.7.6"
  }
 },
 "nbformat": 4,
 "nbformat_minor": 0
}